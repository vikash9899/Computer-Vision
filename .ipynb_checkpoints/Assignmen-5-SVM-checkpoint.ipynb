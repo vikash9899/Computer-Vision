{
 "cells": [
  {
   "cell_type": "code",
   "execution_count": 34,
   "id": "a8a8ca2b",
   "metadata": {
    "scrolled": true
   },
   "outputs": [
    {
     "name": "stdout",
     "output_type": "stream",
     "text": [
      "Tensorflow version: 2.8.0\n",
      "GPU detected: []\n",
      "CPU detected: [PhysicalDevice(name='/physical_device:CPU:0', device_type='CPU')]\n"
     ]
    }
   ],
   "source": [
    "from tensorflow.keras.datasets import cifar10\n",
    "import tensorflow as tf\n",
    "import warnings\n",
    "warnings.filterwarnings(\"ignore\")\n",
    "print('Tensorflow version:', tf.__version__)\n",
    "print('GPU detected:', tf.config.list_physical_devices('GPU')) \n",
    "print('CPU detected:', tf.config.list_physical_devices('CPU')) "
   ]
  },
  {
   "cell_type": "code",
   "execution_count": 35,
   "id": "c5f84188",
   "metadata": {},
   "outputs": [],
   "source": [
    "import numpy as np\n",
    "import matplotlib.pyplot as plt "
   ]
  },
  {
   "cell_type": "code",
   "execution_count": 36,
   "id": "ab1b5779",
   "metadata": {
    "scrolled": false
   },
   "outputs": [],
   "source": [
    "dataset = cifar10.load_data()   \n",
    "class_dict = {\n",
    "0 : 'airplane',\n",
    "1 : 'automobile'\n",
    "2 : 'bird',\n",
    "3 : 'cat',\n",
    "4 : 'deer',\n",
    "5 : 'dog',\n",
    "6 : 'frog',\n",
    "7 : 'horse',\n",
    "8 : 'ship',\n",
    "9 : 'truck'\n",
    "}"
   ]
  },
  {
   "cell_type": "code",
   "execution_count": 37,
   "id": "de3c0f68",
   "metadata": {},
   "outputs": [
    {
     "name": "stdout",
     "output_type": "stream",
     "text": [
      "<class 'tuple'>\n",
      "2\n",
      "<class 'tuple'>\n",
      "2\n",
      "<class 'numpy.ndarray'>\n",
      "(50000, 32, 32, 3)\n",
      "(50000, 1)\n",
      "(10000, 32, 32, 3)\n",
      "(10000, 1)\n"
     ]
    }
   ],
   "source": [
    "print(type(dataset))\n",
    "print(len(dataset))\n",
    "print(type(dataset[0]))\n",
    "print(len(dataset[0]))\n",
    "print(type(dataset[0][0]))\n",
    "print(dataset[0][0].shape)\n",
    "print(dataset[0][1].shape)\n",
    "print(dataset[1][0].shape)\n",
    "print(dataset[1][1].shape)"
   ]
  },
  {
   "cell_type": "code",
   "execution_count": 38,
   "id": "88c836cc",
   "metadata": {
    "scrolled": true
   },
   "outputs": [
    {
     "data": {
      "text/plain": [
       "<matplotlib.image.AxesImage at 0x7f917210d460>"
      ]
     },
     "execution_count": 38,
     "metadata": {},
     "output_type": "execute_result"
    },
    {
     "data": {
      "image/png": "[encoded data removed]",
      "text/plain": [
       "<Figure size 144x144 with 1 Axes>"
      ]
     },
     "metadata": {
      "needs_background": "light"
     },
     "output_type": "display_data"
    }
   ],
   "source": [
    "img = dataset[0][0][1]\n",
    "plt.figure(figsize=(2, 2)) \n",
    "plt.imshow(img) "
   ]
  },
  {
   "cell_type": "code",
   "execution_count": 39,
   "id": "8fface26",
   "metadata": {},
   "outputs": [],
   "source": [
    "(x_train, y_train), (x_test, y_test) = dataset\n",
    "assert x_train.shape == (50000, 32, 32, 3) \n",
    "assert x_test.shape == (10000, 32, 32, 3)  \n",
    "assert y_train.shape == (50000, 1)\n",
    "assert y_test.shape == (10000, 1)  "
   ]
  },
  {
   "cell_type": "code",
   "execution_count": 40,
   "id": "3bae00d5",
   "metadata": {},
   "outputs": [],
   "source": [
    "x_train = x_train.reshape((50000, 32*32*3)) \n",
    "x_test = x_test.reshape((10000, 32*32*3))  "
   ]
  },
  {
   "cell_type": "code",
   "execution_count": 41,
   "id": "7c11c055",
   "metadata": {},
   "outputs": [],
   "source": [
    "x_train1 = x_train[:2000]\n",
    "y_train1 = y_train[:2000]\n",
    "x_test1 = x_test[:200]\n",
    "y_test1 = y_test[:200]"
   ]
  },
  {
   "cell_type": "code",
   "execution_count": 42,
   "id": "f230f295",
   "metadata": {
    "scrolled": true
   },
   "outputs": [
    {
     "name": "stdout",
     "output_type": "stream",
     "text": [
      "(2000, 3072)\n",
      "(2000, 1)\n",
      "(200, 3072)\n",
      "(200, 1)\n"
     ]
    }
   ],
   "source": [
    "print(x_train1.shape)\n",
    "print(y_train1.shape)\n",
    "print(x_test1.shape)\n",
    "print(y_test1.shape) "
   ]
  },
  {
   "cell_type": "code",
   "execution_count": 48,
   "id": "c08b5e20",
   "metadata": {},
   "outputs": [],
   "source": [
    "img = x_test1[1].reshape((32, 32, 3))"
   ]
  },
  {
   "cell_type": "code",
   "execution_count": null,
   "id": "26aa77e2",
   "metadata": {},
   "outputs": [],
   "source": []
  },
  {
   "cell_type": "code",
   "execution_count": 50,
   "id": "88ebf96a",
   "metadata": {},
   "outputs": [
    {
     "data": {
      "image/png": "[encoded data removed]",
      "text/plain": [
       "<Figure size 432x288 with 1 Axes>"
      ]
     },
     "metadata": {
      "needs_background": "light"
     },
     "output_type": "display_data"
    }
   ],
   "source": [
    "plt.imshow(img, cmap='gray')\n",
    "plt.show()"
   ]
  },
  {
   "cell_type": "code",
   "execution_count": null,
   "id": "29f664f6",
   "metadata": {},
   "outputs": [],
   "source": []
  },
  {
   "cell_type": "code",
   "execution_count": 46,
   "id": "3e06e01c",
   "metadata": {},
   "outputs": [
    {
     "data": {
      "text/plain": [
       "array([8], dtype=uint8)"
      ]
     },
     "execution_count": 46,
     "metadata": {},
     "output_type": "execute_result"
    }
   ],
   "source": [
    "y_test1[1] "
   ]
  },
  {
   "cell_type": "code",
   "execution_count": null,
   "id": "c5073724",
   "metadata": {},
   "outputs": [],
   "source": []
  },
  {
   "cell_type": "code",
   "execution_count": null,
   "id": "eea2cee1",
   "metadata": {},
   "outputs": [],
   "source": []
  },
  {
   "cell_type": "code",
   "execution_count": null,
   "id": "ea5255ca",
   "metadata": {},
   "outputs": [],
   "source": []
  },
  {
   "cell_type": "code",
   "execution_count": null,
   "id": "ee09a52b",
   "metadata": {},
   "outputs": [],
   "source": []
  },
  {
   "cell_type": "code",
   "execution_count": null,
   "id": "c64013c8",
   "metadata": {},
   "outputs": [],
   "source": []
  },
  {
   "cell_type": "code",
   "execution_count": null,
   "id": "dd12ae08",
   "metadata": {},
   "outputs": [],
   "source": []
  },
  {
   "cell_type": "code",
   "execution_count": 15,
   "id": "7c39d75c",
   "metadata": {
    "scrolled": false
   },
   "outputs": [],
   "source": [
    "from sklearn import svm \n",
    "\n",
    "svm_model = svm.SVC()  \n",
    "svm_model.fit(x_train1, y_train1.ravel())  \n",
    "svm_predict = svm_model.predict(x_test1)   "
   ]
  },
  {
   "cell_type": "code",
   "execution_count": null,
   "id": "9f22cce9",
   "metadata": {},
   "outputs": [],
   "source": []
  },
  {
   "cell_type": "code",
   "execution_count": null,
   "id": "7b7308f8",
   "metadata": {},
   "outputs": [],
   "source": []
  },
  {
   "cell_type": "code",
   "execution_count": null,
   "id": "1fd3af0e",
   "metadata": {},
   "outputs": [],
   "source": []
  },
  {
   "cell_type": "code",
   "execution_count": null,
   "id": "627153fc",
   "metadata": {},
   "outputs": [],
   "source": [
    "print(x_train1.shape)\n",
    "print(y_train1.shape)\n",
    "print(x_test1.shape)\n",
    "print(y_test1.shape)"
   ]
  },
  {
   "cell_type": "code",
   "execution_count": 16,
   "id": "30b7c23a",
   "metadata": {},
   "outputs": [],
   "source": [
    "from sklearn import metrics"
   ]
  },
  {
   "cell_type": "code",
   "execution_count": 18,
   "id": "ef0e38fc",
   "metadata": {},
   "outputs": [
    {
     "data": {
      "text/plain": [
       "0.385"
      ]
     },
     "execution_count": 18,
     "metadata": {},
     "output_type": "execute_result"
    }
   ],
   "source": [
    "metrics.accuracy_score(y_test1,svm_predict) "
   ]
  },
  {
   "cell_type": "code",
   "execution_count": 24,
   "id": "3aadc139",
   "metadata": {},
   "outputs": [],
   "source": [
    "report = metrics.classification_report(y_test1, svm_predict)"
   ]
  },
  {
   "cell_type": "code",
   "execution_count": 27,
   "id": "4c90e689",
   "metadata": {},
   "outputs": [
    {
     "name": "stdout",
     "output_type": "stream",
     "text": [
      "              precision    recall  f1-score   support\n",
      "\n",
      "           0       0.29      0.25      0.27        20\n",
      "           1       0.38      0.36      0.37        14\n",
      "           2       0.41      0.43      0.42        21\n",
      "           3       0.31      0.26      0.29        19\n",
      "           4       0.12      0.13      0.13        15\n",
      "           5       0.21      0.22      0.22        18\n",
      "           6       0.47      0.54      0.50        26\n",
      "           7       0.25      0.11      0.15        18\n",
      "           8       0.66      0.68      0.67        28\n",
      "           9       0.40      0.57      0.47        21\n",
      "\n",
      "    accuracy                           0.38       200\n",
      "   macro avg       0.35      0.36      0.35       200\n",
      "weighted avg       0.37      0.39      0.37       200\n",
      "\n"
     ]
    }
   ],
   "source": [
    "print(report)"
   ]
  },
  {
   "cell_type": "code",
   "execution_count": 30,
   "id": "dd23e78e",
   "metadata": {},
   "outputs": [
    {
     "ename": "ValueError",
     "evalue": "Number of classes in 'y_true' (10) not equal to the number of classes in 'y_score' (2).",
     "output_type": "error",
     "traceback": [
      "\u001b[0;31m---------------------------------------------------------------------------\u001b[0m",
      "\u001b[0;31mValueError\u001b[0m                                Traceback (most recent call last)",
      "Input \u001b[0;32mIn [30]\u001b[0m, in \u001b[0;36m<module>\u001b[0;34m\u001b[0m\n\u001b[0;32m----> 1\u001b[0m \u001b[43mmetrics\u001b[49m\u001b[38;5;241;43m.\u001b[39;49m\u001b[43mtop_k_accuracy_score\u001b[49m\u001b[43m(\u001b[49m\u001b[43my_test1\u001b[49m\u001b[43m,\u001b[49m\u001b[43msvm_predict\u001b[49m\u001b[43m)\u001b[49m\n",
      "File \u001b[0;32m~/virtual_env/lib/python3.8/site-packages/sklearn/metrics/_ranking.py:1667\u001b[0m, in \u001b[0;36mtop_k_accuracy_score\u001b[0;34m(y_true, y_score, k, normalize, sample_weight, labels)\u001b[0m\n\u001b[1;32m   1664\u001b[0m     n_classes \u001b[38;5;241m=\u001b[39m \u001b[38;5;28mlen\u001b[39m(classes)\n\u001b[1;32m   1666\u001b[0m     \u001b[38;5;28;01mif\u001b[39;00m n_classes \u001b[38;5;241m!=\u001b[39m y_score_n_classes:\n\u001b[0;32m-> 1667\u001b[0m         \u001b[38;5;28;01mraise\u001b[39;00m \u001b[38;5;167;01mValueError\u001b[39;00m(\n\u001b[1;32m   1668\u001b[0m             \u001b[38;5;124mf\u001b[39m\u001b[38;5;124m\"\u001b[39m\u001b[38;5;124mNumber of classes in \u001b[39m\u001b[38;5;124m'\u001b[39m\u001b[38;5;124my_true\u001b[39m\u001b[38;5;124m'\u001b[39m\u001b[38;5;124m (\u001b[39m\u001b[38;5;132;01m{\u001b[39;00mn_classes\u001b[38;5;132;01m}\u001b[39;00m\u001b[38;5;124m) not equal \u001b[39m\u001b[38;5;124m\"\u001b[39m\n\u001b[1;32m   1669\u001b[0m             \u001b[38;5;124mf\u001b[39m\u001b[38;5;124m\"\u001b[39m\u001b[38;5;124mto the number of classes in \u001b[39m\u001b[38;5;124m'\u001b[39m\u001b[38;5;124my_score\u001b[39m\u001b[38;5;124m'\u001b[39m\u001b[38;5;124m (\u001b[39m\u001b[38;5;132;01m{\u001b[39;00my_score_n_classes\u001b[38;5;132;01m}\u001b[39;00m\u001b[38;5;124m).\u001b[39m\u001b[38;5;124m\"\u001b[39m\n\u001b[1;32m   1670\u001b[0m         )\n\u001b[1;32m   1671\u001b[0m \u001b[38;5;28;01melse\u001b[39;00m:\n\u001b[1;32m   1672\u001b[0m     labels \u001b[38;5;241m=\u001b[39m column_or_1d(labels)\n",
      "\u001b[0;31mValueError\u001b[0m: Number of classes in 'y_true' (10) not equal to the number of classes in 'y_score' (2)."
     ]
    }
   ],
   "source": [
    "metrics.top_k_accuracy_score(y_test1, svm_predict)"
   ]
  },
  {
   "cell_type": "code",
   "execution_count": 32,
   "id": "5149d65f",
   "metadata": {},
   "outputs": [],
   "source": [
    "confusion_matrix = metrics.multilabel_confusion_matrix(y_test1, svm_predict)"
   ]
  },
  {
   "cell_type": "code",
   "execution_count": 33,
   "id": "530aaf87",
   "metadata": {},
   "outputs": [
    {
     "name": "stdout",
     "output_type": "stream",
     "text": [
      "[[[168  12]\n",
      "  [ 15   5]]\n",
      "\n",
      " [[178   8]\n",
      "  [  9   5]]\n",
      "\n",
      " [[166  13]\n",
      "  [ 12   9]]\n",
      "\n",
      " [[170  11]\n",
      "  [ 14   5]]\n",
      "\n",
      " [[171  14]\n",
      "  [ 13   2]]\n",
      "\n",
      " [[167  15]\n",
      "  [ 14   4]]\n",
      "\n",
      " [[158  16]\n",
      "  [ 12  14]]\n",
      "\n",
      " [[176   6]\n",
      "  [ 16   2]]\n",
      "\n",
      " [[162  10]\n",
      "  [  9  19]]\n",
      "\n",
      " [[161  18]\n",
      "  [  9  12]]]\n"
     ]
    }
   ],
   "source": [
    "print(confusion_matrix)"
   ]
  },
  {
   "cell_type": "code",
   "execution_count": null,
   "id": "c8db5aee",
   "metadata": {},
   "outputs": [],
   "source": []
  },
  {
   "cell_type": "code",
   "execution_count": null,
   "id": "3ebff9fc",
   "metadata": {},
   "outputs": [],
   "source": []
  }
 ],
 "metadata": {
  "kernelspec": {
   "display_name": "Python 3 (ipykernel)",
   "language": "python",
   "name": "python3"
  },
  "language_info": {
   "codemirror_mode": {
    "name": "ipython",
    "version": 3
   },
   "file_extension": ".py",
   "mimetype": "text/x-python",
   "name": "python",
   "nbconvert_exporter": "python",
   "pygments_lexer": "ipython3",
   "version": "3.8.10"
  }
 },
 "nbformat": 4,
 "nbformat_minor": 5
}
