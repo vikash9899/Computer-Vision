{
 "cells": [
  {
   "cell_type": "code",
   "execution_count": 12,
   "id": "19c9c322",
   "metadata": {},
   "outputs": [
    {
     "name": "stdout",
     "output_type": "stream",
     "text": [
      "Tensorflow version: 2.8.0\n",
      "GPU detected: []\n",
      "CPU detected: [PhysicalDevice(name='/physical_device:CPU:0', device_type='CPU')]\n"
     ]
    }
   ],
   "source": [
    "from tensorflow.keras.datasets import cifar10\n",
    "import tensorflow as tf\n",
    "print('Tensorflow version:', tf.__version__)\n",
    "print('GPU detected:', tf.config.list_physical_devices('GPU'))\n",
    "print('CPU detected:', tf.config.list_physical_devices('CPU')) "
   ]
  },
  {
   "cell_type": "code",
   "execution_count": 13,
   "id": "d5e751bf",
   "metadata": {},
   "outputs": [],
   "source": [
    "import numpy as np\n",
    "import matplotlib.pyplot as plt "
   ]
  },
  {
   "cell_type": "code",
   "execution_count": 14,
   "id": "5e70db03",
   "metadata": {},
   "outputs": [],
   "source": [
    "dataset = cifar10.load_data()   "
   ]
  },
  {
   "cell_type": "code",
   "execution_count": 15,
   "id": "1d8cb052",
   "metadata": {},
   "outputs": [
    {
     "data": {
      "text/plain": [
       "<matplotlib.image.AxesImage at 0x7fdfe4e1b8b0>"
      ]
     },
     "execution_count": 15,
     "metadata": {},
     "output_type": "execute_result"
    },
    {
     "data": {
      "image/png": "[encoded data removed]",
      "text/plain": [
       "<Figure size 144x144 with 1 Axes>"
      ]
     },
     "metadata": {
      "needs_background": "light"
     },
     "output_type": "display_data"
    }
   ],
   "source": [
    "img = dataset[0][0][1]\n",
    "plt.figure(figsize=(2, 2)) \n",
    "plt.imshow(img)  "
   ]
  },
  {
   "cell_type": "code",
   "execution_count": 16,
   "id": "e3ae8918",
   "metadata": {},
   "outputs": [],
   "source": [
    "(x_train, y_train), (x_test, y_test) = dataset\n",
    "assert x_train.shape == (50000, 32, 32, 3) \n",
    "assert x_test.shape == (10000, 32, 32, 3)  \n",
    "assert y_train.shape == (50000, 1)\n",
    "assert y_test.shape == (10000, 1)  "
   ]
  },
  {
   "cell_type": "code",
   "execution_count": 17,
   "id": "f4c9b6fa",
   "metadata": {},
   "outputs": [],
   "source": [
    "x_train = x_train.reshape((50000, 32*32*3)) \n",
    "x_test = x_test.reshape((10000, 32*32*3))  "
   ]
  },
  {
   "cell_type": "code",
   "execution_count": 18,
   "id": "08fa194b",
   "metadata": {},
   "outputs": [
    {
     "data": {
      "text/plain": [
       "numpy.ndarray"
      ]
     },
     "execution_count": 18,
     "metadata": {},
     "output_type": "execute_result"
    }
   ],
   "source": [
    "type(x_train) "
   ]
  },
  {
   "cell_type": "code",
   "execution_count": 19,
   "id": "b6e43d9c",
   "metadata": {},
   "outputs": [],
   "source": [
    "x_train1 = x_train[:2000]\n",
    "y_train1 = y_train[:2000]\n",
    "x_test1 = x_test[:200]\n",
    "y_test1 = y_test[:200] "
   ]
  },
  {
   "cell_type": "code",
   "execution_count": null,
   "id": "8984b08d",
   "metadata": {},
   "outputs": [],
   "source": [
    "x_train1 = x_train[:500]\n",
    "y_train1 = y_train[:500]\n",
    "x_test1 = x_test[:20]\n",
    "y_test1 = y_test[:20] "
   ]
  },
  {
   "cell_type": "code",
   "execution_count": null,
   "id": "22d787b2",
   "metadata": {},
   "outputs": [],
   "source": [
    "from sklearn import svm \n",
    "\n",
    "svm_model = svm.SVC()  \n",
    "svm_model.fit(x_train, y_train.ravel())  \n",
    "svm_predict = svm_model.predict(x_test)  "
   ]
  },
  {
   "cell_type": "code",
   "execution_count": null,
   "id": "7c518ac4",
   "metadata": {},
   "outputs": [],
   "source": []
  },
  {
   "cell_type": "code",
   "execution_count": null,
   "id": "5a276c5d",
   "metadata": {},
   "outputs": [],
   "source": []
  },
  {
   "cell_type": "code",
   "execution_count": null,
   "id": "bf2af9f8",
   "metadata": {},
   "outputs": [],
   "source": []
  }
 ],
 "metadata": {
  "kernelspec": {
   "display_name": "Python 3 (ipykernel)",
   "language": "python",
   "name": "python3"
  },
  "language_info": {
   "codemirror_mode": {
    "name": "ipython",
    "version": 3
   },
   "file_extension": ".py",
   "mimetype": "text/x-python",
   "name": "python",
   "nbconvert_exporter": "python",
   "pygments_lexer": "ipython3",
   "version": "3.8.10"
  }
 },
 "nbformat": 4,
 "nbformat_minor": 5
}
